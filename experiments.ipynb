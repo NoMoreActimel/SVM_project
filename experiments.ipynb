{
 "cells": [
  {
   "cell_type": "code",
   "execution_count": 13,
   "metadata": {},
   "outputs": [],
   "source": [
    "# example of a bimodal constructed from two gaussian processes\n",
    "from numpy import hstack\n",
    "from numpy.random import normal\n",
    "from matplotlib import pyplot\n",
    "from sklearn.mixture import GaussianMixture"
   ]
  },
  {
   "cell_type": "code",
   "execution_count": 14,
   "metadata": {},
   "outputs": [],
   "source": [
    "def plot_hist(X):\n",
    "    # plot the histogram\n",
    "    pyplot.hist(X, bins=50, density=True)\n",
    "    pyplot.show()"
   ]
  },
  {
   "cell_type": "code",
   "execution_count": 21,
   "metadata": {},
   "outputs": [
    {
     "data": {
      "image/png": "[encoded data removed]",
      "text/plain": [
       "<Figure size 432x288 with 1 Axes>"
      ]
     },
     "metadata": {
      "needs_background": "light"
     },
     "output_type": "display_data"
    },
    {
     "name": "stdout",
     "output_type": "stream",
     "text": [
      "[1 1 1 1 1 1 1 1 1 1 1 1 1 1 1 1 1 1 1 1 1 1 1 1 1 1 1 1 1 1 1 1 1 1 1 1 1\n",
      " 1 1 1 1 1 1 1 1 1 1 1 1 1 1 1 1 1 1 1 1 1 1 1 1 1 1 1 1 1 1 1 1 1 1 1 1 1\n",
      " 1 1 1 1 1 1 1 1 1 1 1 1 1 1 1 1 1 1 1 1 1 1 1 1 1 1]\n",
      "[0 1 0 0 0 0 0 0 0 0 0 0 0 0 0 0 0 1 0 1 0 0 0 0 1 0 0 0 1 0 0 0 1 0 0 0 0\n",
      " 0 0 0 1 0 0 0 0 1 0 0 0 0 0 1 0 0 0 1 0 0 0 0 1 0 0 0 0 1 0 0 0 0 0 0 0 0\n",
      " 0 0 1 1 0 0 0 0 0 0 0 0 0 0 0 0 1 0 0 0 0 0 0 0 0 0]\n",
      "-3.7710260140712046\n"
     ]
    }
   ],
   "source": [
    "\n",
    "# generate a sample\n",
    "X1 = normal(loc=20, scale=5, size=3000)\n",
    "X2 = normal(loc=40, scale=5, size=7000)\n",
    "X = hstack((X1, X2))\n",
    "X = X.reshape((len(X), 1))\n",
    "plot_hist(X)\n",
    "\n",
    "# fit model\n",
    "model = GaussianMixture(n_components=2, init_params='random')\n",
    "model.fit(X)\n",
    "# predict latent values\n",
    "yhat = model.predict(X)\n",
    "# check latent value for first few points\n",
    "print(yhat[:100])\n",
    "# check latent value for last few points\n",
    "print(yhat[-100:])\n",
    "print(model.score(X))"
   ]
  },
  {
   "cell_type": "code",
   "execution_count": null,
   "metadata": {},
   "outputs": [],
   "source": []
  },
  {
   "cell_type": "code",
   "execution_count": 22,
   "metadata": {},
   "outputs": [],
   "source": [
    "import numpy as np\n",
    "import pandas as pd # reading data from csv\n",
    "from PIL import Image # image opening\n",
    "\n",
    "from sklearn import svm # comparing to sklearn SVM\n",
    "\n",
    "from sklearn.model_selection import train_test_split # splitting dataframes\n",
    "from sklearn.model_selection import ShuffleSplit\n",
    "from sklearn.metrics import accuracy_score, recall_score, precision_score # result estimation\n",
    "from sklearn.preprocessing import MinMaxScaler # normalization\n",
    "\n",
    "from scipy.stats import pearsonr # correlation and p-value\n",
    "import statsmodels.api as sm # finding the p-value\n",
    "\n",
    "import matplotlib.pyplot as plt # plotting\n",
    "import math\n",
    "import os\n",
    "\n",
    "from scipy.optimize import Bounds, BFGS\n",
    "from scipy.optimize import LinearConstraint, minimize"
   ]
  },
  {
   "cell_type": "code",
   "execution_count": null,
   "metadata": {},
   "outputs": [],
   "source": []
  }
 ],
 "metadata": {
  "interpreter": {
   "hash": "00c7bf354c56290f5c8a36532e89f48915b186527b8684a9ec4204cb0b599f8c"
  },
  "kernelspec": {
   "display_name": "Python 3.9.7 ('base')",
   "language": "python",
   "name": "python3"
  },
  "language_info": {
   "codemirror_mode": {
    "name": "ipython",
    "version": 3
   },
   "file_extension": ".py",
   "mimetype": "text/x-python",
   "name": "python",
   "nbconvert_exporter": "python",
   "pygments_lexer": "ipython3",
   "version": "3.9.7"
  },
  "orig_nbformat": 4
 },
 "nbformat": 4,
 "nbformat_minor": 2
}
