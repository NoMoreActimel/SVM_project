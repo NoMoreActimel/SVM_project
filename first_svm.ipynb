{
 "cells": [
  {
   "cell_type": "code",
   "execution_count": 10,
   "metadata": {},
   "outputs": [],
   "source": [
    "import numpy as np\n",
    "import pandas as pd\n",
    "import matplotlib.pyplot as plt\n",
    "import matplotlib.colors as colors\n",
    "from sklearn.utils import resample # downsampling the dataset\n",
    "from sklearn.model_selection import train_test_split\n",
    "from sklearn.preprocessing import scale # data scaling and centering\n",
    "from sklearn.svm import SVC # support vector machine for classification\n",
    "from sklearn.model_selection import GridSearchCV # for cross validation\n",
    "from sklearn.metrics import confusion_matrix\n",
    "from sklearn.metrics import plot_confusion_matrix\n",
    "from sklearn.decomposition import PCA # perform PCA to plot the data"
   ]
  },
  {
   "cell_type": "code",
   "execution_count": null,
   "metadata": {},
   "outputs": [],
   "source": [
    "class SVM:\n",
    "    def __init__(self, learning_rate=0.001, alpha=0.01, iterations=1000):\n",
    "        self.lr = learning_rate\n",
    "        self.alpha = alpha\n",
    "        self.iterations = iterations\n",
    "        self.w = None\n",
    "        self.b = None\n",
    "\n",
    "    def fit(self, X, y):\n",
    "        y_ = np.where(y <= 0, -1, 1)\n",
    "        samples, features = X.shape\n",
    "\n",
    "        self.w = np.zeros(features)\n",
    "        self.b = 0\n",
    "\n",
    "        for _ in range(self.iterations):\n",
    "            for i, x_i in enumerate(X):\n",
    "                condition = y_[i] * (x_i @ self.w - self.b) >= 1\n",
    "                if condition:\n",
    "                    self.w -= self.lr * 2 * self.alpha * self.w\n",
    "                else:\n",
    "                    self.w -= self.lr * (2 * self.alpha * self.w - y_[i] * x_i)\n",
    "                    self.b -= self.lr * y_[i]\n",
    "\n",
    "    def predict(self, X):\n",
    "        return np.sign(X @ self.w - self.b)"
   ]
  },
  {
   "cell_type": "code",
   "execution_count": null,
   "metadata": {},
   "outputs": [
    {
     "name": "stdout",
     "output_type": "stream",
     "text": [
      "[0.5583391  0.33059814] -1.1639999999999826\n"
     ]
    },
    {
     "data": {
      "image/png": "[encoded data removed]",
      "text/plain": [
       "<Figure size 432x288 with 1 Axes>"
      ]
     },
     "metadata": {
      "needs_background": "light"
     },
     "output_type": "display_data"
    }
   ],
   "source": [
    "X, y = datasets.make_blobs(n_samples=50, n_features=2, centers=2, cluster_std=2, random_state=40)\n",
    "y = np.where(y == 0, -1, 1)\n",
    "\n",
    "classifier = SVM()\n",
    "classifier.fit(X, y, )\n",
    "\n",
    "print(classifier.w, classifier.b)\n",
    "\n",
    "def get_hyperplane_value(x, w, b, offset):\n",
    "    return (-w[0] * x + b + offset) / w[1]\n",
    "\n",
    "def visualize_svm():\n",
    "    fig = plt.figure()\n",
    "    ax = fig.add_subplot(1, 1, 1)\n",
    "    plt.scatter(X[:, 0], X[:, 1], marker=\"o\", c=y)\n",
    "\n",
    "\n",
    "    x0_1 = np.amin(X[:, 0])\n",
    "    x0_2 = np.amax(X[:, 0])\n",
    "\n",
    "    x1_1 = get_hyperplane_value(x0_1, classifier.w, classifier.b, 0)\n",
    "    x1_2 = get_hyperplane_value(x0_2, classifier.w, classifier.b, 0)\n",
    "\n",
    "    x1_1_m = get_hyperplane_value(x0_1, classifier.w, classifier.b, -1)\n",
    "    x1_2_m = get_hyperplane_value(x0_2, classifier.w, classifier.b, -1)\n",
    "\n",
    "    x1_1_p = get_hyperplane_value(x0_1, classifier.w, classifier.b, 1)\n",
    "    x1_2_p = get_hyperplane_value(x0_2, classifier.w, classifier.b, 1)\n",
    "\n",
    "    ax.plot([x0_1, x0_2], [x1_1, x1_2], \"y--\")\n",
    "    ax.plot([x0_1, x0_2], [x1_1_m, x1_2_m], \"k\")\n",
    "    ax.plot([x0_1, x0_2], [x1_1_p, x1_2_p], \"k\")\n",
    "\n",
    "    x1_min = np.amin(X[:, 1])\n",
    "    x1_max = np.amax(X[:, 1])\n",
    "    ax.set_ylim([x1_min - 3, x1_max + 3])\n",
    "\n",
    "    plt.show()\n",
    "\n",
    "visualize_svm()"
   ]
  },
  {
   "cell_type": "code",
   "execution_count": 12,
   "metadata": {},
   "outputs": [
    {
     "name": "stdout",
     "output_type": "stream",
     "text": [
      "85\n",
      "(0, 5, 1, 6, 2, 7, 3, 8, 4, 9)\n"
     ]
    }
   ],
   "source": [
    "import itertools\n",
    "\n",
    "n = 5\n",
    "a = [[0 for i in range(5)] for j in range(n)]\n",
    "m = 1000000\n",
    "ind_m = []\n",
    "for i in list(itertools.permutations(range(2 * n))):\n",
    "  s = 0\n",
    "  for j in i:\n",
    "    if j < n:\n",
    "      for y in range(n):\n",
    "        a[j][y] = 1 - a[j][y]\n",
    "    else:\n",
    "      for x in range(n):\n",
    "        a[x][j-n] = 1 - a[x][j-n]\n",
    "    for x in range(n):\n",
    "      for y in range(n):\n",
    "        s+=a[x][y]\n",
    "  if s < m:\n",
    "    m = s\n",
    "    ind_m = i \n",
    "print(m)\n",
    "print(ind_m)"
   ]
  },
  {
   "cell_type": "code",
   "execution_count": null,
   "metadata": {},
   "outputs": [],
   "source": []
  }
 ],
 "metadata": {
  "interpreter": {
   "hash": "00c7bf354c56290f5c8a36532e89f48915b186527b8684a9ec4204cb0b599f8c"
  },
  "kernelspec": {
   "display_name": "Python 3.9.7 ('base')",
   "language": "python",
   "name": "python3"
  },
  "language_info": {
   "codemirror_mode": {
    "name": "ipython",
    "version": 3
   },
   "file_extension": ".py",
   "mimetype": "text/x-python",
   "name": "python",
   "nbconvert_exporter": "python",
   "pygments_lexer": "ipython3",
   "version": "3.9.7"
  },
  "orig_nbformat": 4
 },
 "nbformat": 4,
 "nbformat_minor": 2
}
