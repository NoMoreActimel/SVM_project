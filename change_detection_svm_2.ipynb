{
 "cells": [
  {
   "cell_type": "code",
   "execution_count": 2,
   "metadata": {},
   "outputs": [],
   "source": [
    "import numpy as np\n",
    "import pandas as pd\n",
    "from sklearn import svm \n",
    "from sklearn.model_selection import train_test_split\n",
    "from sklearn.model_selection import ShuffleSplit\n",
    "from sklearn.preprocessing import MinMaxScaler # normalization\n",
    "import matplotlib.pyplot as plt # plotting\n",
    "from matplotlib import cm\n",
    "import seaborn # plottin\n",
    "from PIL import Image # image opening\n",
    "import math\n",
    "import os"
   ]
  },
  {
   "cell_type": "code",
   "execution_count": 3,
   "metadata": {},
   "outputs": [],
   "source": [
    "# PLOTTING\n",
    "def plot_array_as_image(X, m, n, is_1d=False):\n",
    "    if is_1d:\n",
    "        X = X.reshape((m, n))\n",
    "    plt.figure(figsize=(8, 8))\n",
    "    plt.imshow(X)\n",
    "\n",
    "def plot_array_as_image_color(X, m, n, is_1d=False):\n",
    "    if is_1d:\n",
    "        X = np.array([np.linalg.norm(pixel_diff) for pixel_diff in X])\n",
    "        X = X.reshape((m, n))\n",
    "\n",
    "    plt.figure(figsize=(8, 8))\n",
    "    plt.imshow(X)\n",
    "\n",
    "    \n",
    "def plot_deltas(count_deltas, p_value_ind):\n",
    "    plt.figure(figsize=(8, 8))\n",
    "\n",
    "    plt.plot(count_deltas, label='deltas based on frobenius norm', color='b')\n",
    "    plt.axvline(x=p_value_ind, label='p_value_ind', color='r')\n",
    "    plt.legend()\n",
    "    plt.tight_layout()"
   ]
  },
  {
   "cell_type": "code",
   "execution_count": 4,
   "metadata": {},
   "outputs": [],
   "source": [
    "class Data:\n",
    "    # IMAGE SCANNING\n",
    "    def scan_img_color(self, path_img1, path_img2):\n",
    "        img1 = Image.open(path_img1)\n",
    "        img2 = Image.open(path_img2)\n",
    "\n",
    "        # take the difference between two images\n",
    "        difference = np.array(img1, dtype=np.int16) - np.array(img2, dtype=np.int16)\n",
    "        self.m, self.n, self.dim = difference.shape\n",
    "        self.samples = self.m * self.n\n",
    "        # reshape it\n",
    "        difference = difference.reshape((self.samples, self.dim), order='C')\n",
    "        # normalize them and save in X\n",
    "        self.X = MinMaxScaler().fit_transform(difference)\n",
    "        # now count norms for each pixel's difference\n",
    "        self.norms = np.array([np.linalg.norm(pixel_diff) for pixel_diff in self.X])\n",
    "\n",
    "        self.y = np.full(self.samples, False, dtype=bool)\n",
    "        self.classify_changes(p_value=0.6, show_deltas=False, is_bw=False)\n",
    "        plot_array_as_image(self.y, self.m, self.n, is_1d=True)\n",
    "\n",
    "    def scan_img_bw(self, path_img1, path_img2):\n",
    "        img1 = Image.open(path_img1).convert('L')\n",
    "        img2 = Image.open(path_img2).convert('L')\n",
    "\n",
    "        # take the difference between two images\n",
    "        difference = np.array(img1, dtype=np.int16) - np.array(img2, dtype=np.int16)\n",
    "        self.m, self.n = difference.shape\n",
    "        self.samples = self.m * self.n\n",
    "        # reshape it\n",
    "        difference = difference.reshape((self.samples, 1), order='C')\n",
    "        # normalize them and save in X\n",
    "        self.X = MinMaxScaler().fit_transform(difference)\n",
    "        self.norms = self.X\n",
    "\n",
    "        # LABELS PART\n",
    "        self.y = np.full(self.samples, False, dtype=bool)\n",
    "        self.classify_changes(p_value=0.6, show_deltas=False, is_bw=True)\n",
    "        plot_array_as_image(self.y, self.m, self.n, is_1d=True)\n",
    "        plot_array_as_image(self.X, self.m, self.n, is_1d=True)\n",
    "\n",
    "    def scan_dir_imgs_color(self, path_images1, path_images2, path_labels, m=512, n=512, dim=3, cnt_images=1, start_from=0):\n",
    "        # suppose images are named the same in all 3 directories\n",
    "        # We will use each pixel as a sample with dim features\n",
    "        # Storing samples in X and labels in y\n",
    "\n",
    "        img_filenames = os.listdir(path_images1)\n",
    "\n",
    "        self.m, self.n, self.features = m, n, dim\n",
    "        self.img_size = self.m * self.n\n",
    "        self.cnt_images = cnt_images\n",
    "        self.samples = cnt_images * self.img_size\n",
    "        self.X = np.array([np.full(self.features, 0.0, dtype=np.float64) for i in range(self.samples)])\n",
    "        self.y = np.full(self.samples, 0, dtype=np.int32)\n",
    "\n",
    "        for im_ind in range(start_from, len(img_filenames)):\n",
    "            im_offset = im_ind - start_from\n",
    "            if im_offset % 10 == 0 or im_offset == cnt_images - 1:\n",
    "                print(\"image no.\", im_ind)\n",
    "                print(img_filenames[im_ind])\n",
    "\n",
    "            # IMAGES PART\n",
    "            img1 = Image.open(path_images1 + \"/\" + img_filenames[im_ind])\n",
    "            img2 = Image.open(path_images2 + \"/\" + img_filenames[im_ind])\n",
    "\n",
    "            # take the difference between two images\n",
    "            difference = np.array(img1, dtype=np.int16) - np.array(img2, dtype=np.int16)\n",
    "            # reshape it\n",
    "            difference = difference.reshape((self.img_size, self.features), order='C')\n",
    "            # normalize them\n",
    "            difference = MinMaxScaler().fit_transform(difference)\n",
    "\n",
    "            # save pixel norms as features in X[im_ind]\n",
    "            for pixel_ind in range(self.img_size):\n",
    "                self.X[im_offset * self.img_size + pixel_ind] = difference[pixel_ind]\n",
    "        \n",
    "            # LABELS PART\n",
    "            img_labels = Image.open(path_labels + \"/\" + img_filenames[im_ind]).convert('L')    \n",
    "            pixel_labels = np.array(img_labels, dtype=np.int16).reshape((self.img_size, 1))\n",
    "\n",
    "            # store bool(pixel_label)\n",
    "            for pixel_ind in range(self.img_size):\n",
    "                self.y[im_offset * self.img_size + pixel_ind] = np.sign(pixel_labels[pixel_ind] - 255)\n",
    "        \n",
    "            # stop criteria\n",
    "            if im_offset == cnt_images - 1:\n",
    "                break\n",
    "\n",
    "    def scan_dir_imgs_bw(self, path_images1, path_images2, path_labels, m=512, n=512, cnt_images=1, start_from=0):\n",
    "        # suppose images are named the same in all 3 directories\n",
    "        # We will use each pixel as a sample with dim features\n",
    "        # Storing samples in X and labels in y\n",
    "\n",
    "        img_filenames = os.listdir(path_images1)\n",
    "\n",
    "        self.m, self.n, self.features = m, n, 1\n",
    "        self.img_size = self.m * self.n\n",
    "        self.cnt_images = cnt_images\n",
    "        self.samples = cnt_images * self.img_size\n",
    "        self.X = np.array([np.full(self.features, 0.0, dtype=np.float64) for i in range(self.samples)])\n",
    "        self.y = np.full(self.samples, 0, dtype=np.int32)\n",
    "\n",
    "        for im_ind in range(start_from, len(img_filenames)):\n",
    "            im_offset = im_ind - start_from\n",
    "            if im_offset % 10 == 0 or im_offset == cnt_images - 1:\n",
    "                print(\"image no.\", im_ind)\n",
    "                print(img_filenames[im_ind])\n",
    "\n",
    "            # IMAGES PART\n",
    "            img1 = Image.open(path_images1 + \"/\" + img_filenames[im_ind]).convert('L')\n",
    "            img2 = Image.open(path_images2 + \"/\" + img_filenames[im_ind]).convert('L')\n",
    "\n",
    "            # take the difference between two images\n",
    "            difference = np.array(img1, dtype=np.int16) - np.array(img2, dtype=np.int16)\n",
    "            # reshape it\n",
    "            difference = difference.reshape((self.img_size, self.features), order='C')\n",
    "            # normalize them\n",
    "            difference = MinMaxScaler().fit_transform(difference)\n",
    "\n",
    "            # save pixel norms as features in X[im_ind]\n",
    "            for pixel_ind in range(self.img_size):\n",
    "                self.X[im_offset * self.img_size + pixel_ind] = difference[pixel_ind]\n",
    "        \n",
    "            # LABELS PART\n",
    "            img_labels = Image.open(path_labels + \"/\" + img_filenames[im_ind]).convert('L')    \n",
    "            pixel_labels = np.array(img_labels, dtype=np.int16).reshape((self.img_size, 1))\n",
    "\n",
    "            # store bool(pixel_label)\n",
    "            for pixel_ind in range(self.img_size):\n",
    "                self.y[im_offset * self.img_size + pixel_ind] = np.sign(pixel_labels[pixel_ind] - 255)\n",
    "        \n",
    "            # stop criteria\n",
    "            if im_offset == cnt_images - 1:\n",
    "                break\n",
    "\n",
    "\n",
    "    # CLUSTERISATION\n",
    "    def count_cluster(self, data, clusters, img_ind, ind1, ind2):\n",
    "        img_offset_clusters = img_ind * self.clusters_per_image\n",
    "        img_offset_data = img_ind * self.img_size\n",
    "\n",
    "        for i in range(self.cluster_size * ind1, self.cluster_size * ind1 + self.cluster_size):\n",
    "            for j in range(self.cluster_size * ind2, self.cluster_size * ind2 + self.cluster_size):\n",
    "                clusters[img_offset_clusters + ind1 * self.n_clusters + ind2] += data[img_offset_data + i * self.n + j]\n",
    "        clusters[img_offset_clusters + ind1 * self.n_clusters + ind2] /= self.clusters_per_image\n",
    "\n",
    "\n",
    "    # assuming the image is n * n pixels and has 1 feature\n",
    "    # and cluster_size divides n\n",
    "    def clusterise_data(self, cluster_size=16):\n",
    "        self.cluster_size = cluster_size\n",
    "        self.n_clusters = int(self.n / cluster_size)\n",
    "        self.clusters_per_image = self.n_clusters * self.n_clusters\n",
    "\n",
    "        self.X_clusters = np.full((self.cnt_images * self.n_clusters * self.n_clusters, 1), 0.0, dtype=np.float64)\n",
    "        self.y_clusters = np.full(self.cnt_images * self.n_clusters * self.n_clusters, 0.0, dtype=np.float64)\n",
    "        \n",
    "        for img_ind in range(self.cnt_images):\n",
    "            for i in range(self.n_clusters):\n",
    "                for j in range(self.n_clusters):\n",
    "                    self.count_cluster(self.X, self.X_clusters, img_ind, i, j)\n",
    "                    self.count_cluster(self.y, self.y_clusters, img_ind, i, j)\n",
    "                    self.y_clusters = np.sign(self.y_clusters)\n",
    "    \n",
    "    \n",
    "    def count_cluster_dim(self, data, clusters, img_ind, ind1, ind2):\n",
    "        img_offset_clusters = img_ind * self.clusters_per_image\n",
    "        img_offset_data = img_ind * self.img_size\n",
    "\n",
    "        for i in range(self.cluster_size * ind1, self.cluster_size * ind1 + self.cluster_size):\n",
    "            for j in range(self.cluster_size * ind2, self.cluster_size * ind2 + self.cluster_size):\n",
    "                for f in range(self.features):\n",
    "                    clusters[img_offset_clusters + ind1 * self.n_clusters + ind2][f] += data[img_offset_data + i * self.n + j][f]\n",
    "        \n",
    "        for f in range(self.features):\n",
    "            clusters[img_offset_clusters + ind1 * self.n_clusters + ind2][f] /= self.clusters_per_image\n",
    "\n",
    "    # assuming the image is n * n pixels and has 1 feature\n",
    "    # and cluster_size divides n\n",
    "    def clusterise_data_dim(self, cluster_size=16):\n",
    "        self.cluster_size = cluster_size\n",
    "        self.n_clusters = int(self.n / cluster_size)\n",
    "        self.clusters_per_image = self.n_clusters * self.n_clusters\n",
    "\n",
    "        self.X_clusters = np.full((self.cnt_images * self.n_clusters * self.n_clusters, self.features), 0.0, dtype=np.float64)\n",
    "        self.y_clusters = np.full(self.cnt_images * self.n_clusters * self.n_clusters, 0.0, dtype=np.float64)\n",
    "        \n",
    "        for img_ind in range(self.cnt_images):\n",
    "            for i in range(self.n_clusters):\n",
    "                for j in range(self.n_clusters):\n",
    "                    self.count_cluster_dim(self.X, self.X_clusters, img_ind, i, j)\n",
    "                    self.count_cluster(self.y, self.y_clusters, img_ind, i, j)\n",
    "                    self.y_clusters = np.sign(self.y_clusters)\n",
    "\n",
    "    # def drop_p_values(self, p_value):\n",
    "    #     for im_ind in self.cnt_images:\n",
    "            "
   ]
  },
  {
   "cell_type": "code",
   "execution_count": 5,
   "metadata": {},
   "outputs": [],
   "source": [
    "path_im1 = './data/SECOND_train_set/im1/'\n",
    "path_im2 = './data/SECOND_train_set/im2/'\n",
    "path_labels = './data/SECOND_train_set/label1/'"
   ]
  },
  {
   "cell_type": "code",
   "execution_count": 6,
   "metadata": {},
   "outputs": [
    {
     "name": "stdout",
     "output_type": "stream",
     "text": [
      "image no. 0\n",
      "00003.png\n",
      "image no. 10\n",
      "00026.png\n",
      "image no. 15\n",
      "00038.png\n"
     ]
    }
   ],
   "source": [
    "cnt_train_images = 16\n",
    "DBW_train = Data()\n",
    "DBW_train.scan_dir_imgs_bw(path_im1, path_im2, path_labels, m=512, n=512, cnt_images=cnt_train_images)"
   ]
  },
  {
   "cell_type": "code",
   "execution_count": 7,
   "metadata": {},
   "outputs": [],
   "source": [
    "DBW_train.clusterise_data(cluster_size=16)"
   ]
  },
  {
   "cell_type": "code",
   "execution_count": 8,
   "metadata": {},
   "outputs": [
    {
     "name": "stdout",
     "output_type": "stream",
     "text": [
      "image no. 100\n",
      "00233.png\n",
      "image no. 102\n",
      "00242.png\n"
     ]
    }
   ],
   "source": [
    "cnt_test_images = 3\n",
    "DBW_test = Data()\n",
    "DBW_test.scan_dir_imgs_bw(path_im1, path_im2, path_labels, m=512, n=512, cnt_images=cnt_test_images, start_from=100)"
   ]
  },
  {
   "cell_type": "code",
   "execution_count": 9,
   "metadata": {},
   "outputs": [],
   "source": [
    "DBW_test.clusterise_data(cluster_size=16)"
   ]
  },
  {
   "cell_type": "code",
   "execution_count": 10,
   "metadata": {},
   "outputs": [
    {
     "data": {
      "text/plain": [
       "SVC(C=0.1)"
      ]
     },
     "execution_count": 10,
     "metadata": {},
     "output_type": "execute_result"
    }
   ],
   "source": [
    "clf_BW = svm.SVC(kernel='rbf', gamma='scale', C=0.1)\n",
    "clf_BW.fit(DBW_train.X_clusters, DBW_train.y_clusters)"
   ]
  },
  {
   "cell_type": "code",
   "execution_count": 11,
   "metadata": {},
   "outputs": [
    {
     "data": {
      "text/plain": [
       "0.6171875"
      ]
     },
     "execution_count": 11,
     "metadata": {},
     "output_type": "execute_result"
    }
   ],
   "source": [
    "clf_BW.score(DBW_test.X_clusters[:DBW_test.clusters_per_image], \n",
    "    DBW_test.y_clusters[:DBW_test.clusters_per_image])"
   ]
  },
  {
   "cell_type": "code",
   "execution_count": 12,
   "metadata": {},
   "outputs": [],
   "source": [
    "yBW_test_predicted = clf_BW.predict(DBW_test.X_clusters[:DBW_test.clusters_per_image])"
   ]
  },
  {
   "cell_type": "code",
   "execution_count": 13,
   "metadata": {},
   "outputs": [
    {
     "data": {
      "image/png": "[encoded data removed]",
      "text/plain": [
       "<Figure size 576x576 with 1 Axes>"
      ]
     },
     "metadata": {
      "needs_background": "light"
     },
     "output_type": "display_data"
    }
   ],
   "source": [
    "plot_array_as_image(DBW_test.y_clusters[:DBW_test.clusters_per_image],\n",
    "    m=DBW_test.n_clusters, n=DBW_test.n_clusters, is_1d=True)"
   ]
  },
  {
   "cell_type": "code",
   "execution_count": 14,
   "metadata": {},
   "outputs": [
    {
     "data": {
      "image/png": "[encoded data removed]",
      "text/plain": [
       "<Figure size 576x576 with 1 Axes>"
      ]
     },
     "metadata": {
      "needs_background": "light"
     },
     "output_type": "display_data"
    }
   ],
   "source": [
    "plot_array_as_image(yBW_test_predicted, m=DBW_test.n_clusters, n=DBW_test.n_clusters, is_1d=True)"
   ]
  },
  {
   "cell_type": "code",
   "execution_count": 15,
   "metadata": {},
   "outputs": [
    {
     "name": "stdout",
     "output_type": "stream",
     "text": [
      "kernel = rbf, gamma = scale, C = 0.001\n",
      "scores: 0.532227 0.824219 0.535156 \n",
      "average score: 0.630534\n",
      "kernel = rbf, gamma = scale, C = 0.01\n",
      "scores: 0.605469 0.793945 0.583008 \n",
      "average score: 0.660807\n",
      "kernel = rbf, gamma = scale, C = 0.1\n",
      "scores: 0.617188 0.782227 0.581055 \n",
      "average score: 0.660156\n",
      "kernel = rbf, gamma = scale, C = 1\n",
      "scores: 0.611328 0.788086 0.581055 \n",
      "average score: 0.660156\n",
      "kernel = rbf, gamma = scale, C = 10\n",
      "scores: 0.612305 0.787109 0.580078 \n",
      "average score: 0.659831\n",
      "kernel = rbf, gamma = scale, C = 100\n",
      "scores: 0.617188 0.779297 0.581055 \n",
      "average score: 0.659180\n",
      "kernel = rbf, gamma = auto, C = 0.001\n",
      "scores: 0.386719 0.833008 0.483398 \n",
      "average score: 0.567708\n",
      "kernel = rbf, gamma = auto, C = 0.01\n",
      "scores: 0.386719 0.833008 0.483398 \n",
      "average score: 0.567708\n",
      "kernel = rbf, gamma = auto, C = 0.1\n",
      "scores: 0.386719 0.833008 0.483398 \n",
      "average score: 0.567708\n",
      "kernel = rbf, gamma = auto, C = 1\n",
      "scores: 0.386719 0.833008 0.483398 \n",
      "average score: 0.567708\n",
      "kernel = rbf, gamma = auto, C = 10\n",
      "scores: 0.386719 0.833008 0.483398 \n",
      "average score: 0.567708\n",
      "kernel = rbf, gamma = auto, C = 100\n",
      "scores: 0.420898 0.831055 0.505859 \n",
      "average score: 0.585938\n",
      "kernel = rbf, gamma = 0.01, C = 0.001\n",
      "scores: 0.386719 0.833008 0.483398 \n",
      "average score: 0.567708\n",
      "kernel = rbf, gamma = 0.01, C = 0.01\n",
      "scores: 0.386719 0.833008 0.483398 \n",
      "average score: 0.567708\n",
      "kernel = rbf, gamma = 0.01, C = 0.1\n",
      "scores: 0.386719 0.833008 0.483398 \n",
      "average score: 0.567708\n",
      "kernel = rbf, gamma = 0.01, C = 1\n",
      "scores: 0.386719 0.833008 0.483398 \n",
      "average score: 0.567708\n",
      "kernel = rbf, gamma = 0.01, C = 10\n",
      "scores: 0.386719 0.833008 0.483398 \n",
      "average score: 0.567708\n",
      "kernel = rbf, gamma = 0.01, C = 100\n",
      "scores: 0.386719 0.833008 0.483398 \n",
      "average score: 0.567708\n",
      "kernel = rbf, gamma = 0.1, C = 0.001\n",
      "scores: 0.386719 0.833008 0.483398 \n",
      "average score: 0.567708\n",
      "kernel = rbf, gamma = 0.1, C = 0.01\n",
      "scores: 0.386719 0.833008 0.483398 \n",
      "average score: 0.567708\n",
      "kernel = rbf, gamma = 0.1, C = 0.1\n",
      "scores: 0.386719 0.833008 0.483398 \n",
      "average score: 0.567708\n",
      "kernel = rbf, gamma = 0.1, C = 1\n",
      "scores: 0.386719 0.833008 0.483398 \n",
      "average score: 0.567708\n",
      "kernel = rbf, gamma = 0.1, C = 10\n",
      "scores: 0.386719 0.833008 0.483398 \n",
      "average score: 0.567708\n",
      "kernel = rbf, gamma = 0.1, C = 100\n",
      "scores: 0.386719 0.833008 0.483398 \n",
      "average score: 0.567708\n",
      "kernel = rbf, gamma = 0.3, C = 0.001\n",
      "scores: 0.386719 0.833008 0.483398 \n",
      "average score: 0.567708\n",
      "kernel = rbf, gamma = 0.3, C = 0.01\n",
      "scores: 0.386719 0.833008 0.483398 \n",
      "average score: 0.567708\n",
      "kernel = rbf, gamma = 0.3, C = 0.1\n",
      "scores: 0.386719 0.833008 0.483398 \n",
      "average score: 0.567708\n",
      "kernel = rbf, gamma = 0.3, C = 1\n",
      "scores: 0.386719 0.833008 0.483398 \n",
      "average score: 0.567708\n",
      "kernel = rbf, gamma = 0.3, C = 10\n",
      "scores: 0.386719 0.833008 0.483398 \n",
      "average score: 0.567708\n",
      "kernel = rbf, gamma = 0.3, C = 100\n",
      "scores: 0.386719 0.833008 0.483398 \n",
      "average score: 0.567708\n",
      "kernel = rbf, gamma = 0.5, C = 0.001\n",
      "scores: 0.386719 0.833008 0.483398 \n",
      "average score: 0.567708\n",
      "kernel = rbf, gamma = 0.5, C = 0.01\n",
      "scores: 0.386719 0.833008 0.483398 \n",
      "average score: 0.567708\n",
      "kernel = rbf, gamma = 0.5, C = 0.1\n",
      "scores: 0.386719 0.833008 0.483398 \n",
      "average score: 0.567708\n",
      "kernel = rbf, gamma = 0.5, C = 1\n",
      "scores: 0.386719 0.833008 0.483398 \n",
      "average score: 0.567708\n",
      "kernel = rbf, gamma = 0.5, C = 10\n",
      "scores: 0.386719 0.833008 0.483398 \n",
      "average score: 0.567708\n",
      "kernel = rbf, gamma = 0.5, C = 100\n",
      "scores: 0.388672 0.833008 0.485352 \n",
      "average score: 0.569010\n",
      "kernel = rbf, gamma = 1, C = 0.001\n",
      "scores: 0.386719 0.833008 0.483398 \n",
      "average score: 0.567708\n",
      "kernel = rbf, gamma = 1, C = 0.01\n",
      "scores: 0.386719 0.833008 0.483398 \n",
      "average score: 0.567708\n",
      "kernel = rbf, gamma = 1, C = 0.1\n",
      "scores: 0.386719 0.833008 0.483398 \n",
      "average score: 0.567708\n",
      "kernel = rbf, gamma = 1, C = 1\n",
      "scores: 0.386719 0.833008 0.483398 \n",
      "average score: 0.567708\n",
      "kernel = rbf, gamma = 1, C = 10\n",
      "scores: 0.386719 0.833008 0.483398 \n",
      "average score: 0.567708\n",
      "kernel = rbf, gamma = 1, C = 100\n",
      "scores: 0.420898 0.831055 0.505859 \n",
      "average score: 0.585938\n",
      "kernel = rbf, gamma = 10, C = 0.001\n",
      "scores: 0.386719 0.833008 0.483398 \n",
      "average score: 0.567708\n",
      "kernel = rbf, gamma = 10, C = 0.01\n",
      "scores: 0.386719 0.833008 0.483398 \n",
      "average score: 0.567708\n",
      "kernel = rbf, gamma = 10, C = 0.1\n",
      "scores: 0.386719 0.833008 0.483398 \n",
      "average score: 0.567708\n",
      "kernel = rbf, gamma = 10, C = 1\n",
      "scores: 0.420898 0.831055 0.502930 \n",
      "average score: 0.584961\n",
      "kernel = rbf, gamma = 10, C = 10\n",
      "scores: 0.511719 0.825195 0.542969 \n",
      "average score: 0.626628\n",
      "kernel = rbf, gamma = 10, C = 100\n",
      "scores: 0.535156 0.823242 0.554688 \n",
      "average score: 0.637695\n",
      "kernel = poly, gamma = scale, C = 0.001\n",
      "scores: 0.386719 0.833008 0.483398 \n",
      "average score: 0.567708\n",
      "kernel = poly, gamma = scale, C = 0.01\n",
      "scores: 0.386719 0.833008 0.483398 \n",
      "average score: 0.567708\n",
      "kernel = poly, gamma = scale, C = 0.1\n",
      "scores: 0.386719 0.833008 0.483398 \n",
      "average score: 0.567708\n",
      "kernel = poly, gamma = scale, C = 1\n",
      "scores: 0.415039 0.832031 0.483398 \n",
      "average score: 0.576823\n"
     ]
    }
   ],
   "source": [
    "kernels = ['rbf', 'poly']\n",
    "gammas = ['scale', 'auto', 0.01, 0.1, 0.3, 0.5, 1, 10]\n",
    "Cs = [0.001, 0.01, 0.1, 1, 10, 100]\n",
    "\n",
    "average_scores = []\n",
    "for kernel in kernels:\n",
    "    for gamma in gammas:\n",
    "        for C in Cs:\n",
    "            clf_BW = svm.SVC(kernel=kernel, gamma=gamma, C=C)\n",
    "            clf_BW.fit(DBW_train.X_clusters, DBW_train.y_clusters)\n",
    "            print(\"kernel = {}, gamma = {}, C = {}\".format(kernel, gamma, C))\n",
    "\n",
    "            scores = [0.0, 0.0, 0.0]\n",
    "            print(\"scores: \", end=\"\")\n",
    "\n",
    "            for i in range(cnt_test_images):\n",
    "                scores[i] = clf_BW.score(\n",
    "                    DBW_test.X_clusters[i * DBW_test.clusters_per_image : (i + 1) * DBW_test.clusters_per_image],\n",
    "                    DBW_test.y_clusters[i * DBW_test.clusters_per_image : (i + 1) * DBW_test.clusters_per_image])\n",
    "                print(\"{:.6f} \".format(scores[i]), end=\"\")\n",
    "            \n",
    "            average_score = sum(scores) / cnt_test_images\n",
    "            print(\"\\naverage score: {:.6f}\".format(average_score)) \n",
    "            average_scores.append(average_score)            "
   ]
  },
  {
   "cell_type": "code",
   "execution_count": 17,
   "metadata": {},
   "outputs": [
    {
     "name": "stdout",
     "output_type": "stream",
     "text": [
      "kernel = rbf, gamma = 10, C = 100\n",
      "scores: 0.535156 0.823242 0.554688 \n",
      "average score: 0.637695\n"
     ]
    }
   ],
   "source": [
    "clf_BW = svm.SVC(kernel='rbf', gamma=10, C=100)\n",
    "clf_BW.fit(DBW_train.X_clusters, DBW_train.y_clusters)\n",
    "print(\"kernel = {}, gamma = {}, C = {}\".format('rbf', 10, 100))\n",
    "\n",
    "scores = [0.0, 0.0, 0.0]\n",
    "print(\"scores: \", end=\"\")\n",
    "\n",
    "for i in range(cnt_test_images):\n",
    "    scores[i] = clf_BW.score(\n",
    "        DBW_test.X_clusters[i * DBW_test.clusters_per_image : (i + 1) * DBW_test.clusters_per_image],\n",
    "        DBW_test.y_clusters[i * DBW_test.clusters_per_image : (i + 1) * DBW_test.clusters_per_image])\n",
    "    print(\"{:.6f} \".format(scores[i]), end=\"\")\n",
    "\n",
    "average_score = sum(scores) / cnt_test_images\n",
    "print(\"\\naverage score: {:.6f}\".format(average_score))       "
   ]
  },
  {
   "cell_type": "code",
   "execution_count": 18,
   "metadata": {},
   "outputs": [],
   "source": [
    "yBW_test_predicted_2 = clf_BW.predict(DBW_test.X_clusters[:DBW_test.clusters_per_image])"
   ]
  },
  {
   "cell_type": "code",
   "execution_count": 21,
   "metadata": {},
   "outputs": [
    {
     "data": {
      "image/png": "[encoded data removed]",
      "text/plain": [
       "<Figure size 576x576 with 1 Axes>"
      ]
     },
     "metadata": {
      "needs_background": "light"
     },
     "output_type": "display_data"
    }
   ],
   "source": [
    "plot_array_as_image(yBW_test_predicted, m=DBW_test.n_clusters, n=DBW_test.n_clusters, is_1d=True)"
   ]
  },
  {
   "cell_type": "code",
   "execution_count": 20,
   "metadata": {},
   "outputs": [
    {
     "data": {
      "image/png": "[encoded data removed]",
      "text/plain": [
       "<Figure size 576x576 with 1 Axes>"
      ]
     },
     "metadata": {
      "needs_background": "light"
     },
     "output_type": "display_data"
    }
   ],
   "source": [
    "plot_array_as_image(yBW_test_predicted_2, m=DBW_test.n_clusters, n=DBW_test.n_clusters, is_1d=True)"
   ]
  },
  {
   "cell_type": "code",
   "execution_count": 23,
   "metadata": {},
   "outputs": [],
   "source": [
    "class SVM_Change_Detection_Classifier:\n",
    "    def get_images(self, path_im1, path_im2, path_labels, cnt_train_images, \n",
    "        cnt_test_images, start_from_train=0, start_from_test=100, color=False, cluster_size=8):\n",
    "\n",
    "        self.D_train = Data()\n",
    "        if color:\n",
    "            self.D_train.scan_dir_imgs_color(path_im1, path_im2, path_labels, \n",
    "                cnt_images=cnt_train_images, start_from=start_from_train)\n",
    "        else:\n",
    "            self.D_train.scan_dir_imgs_bw(path_im1, path_im2, path_labels,\n",
    "                cnt_images=cnt_train_images, start_from=start_from_train)\n",
    "        \n",
    "        self.D_train.clusterise_data(cluster_size=cluster_size)\n",
    "\n",
    "        self.D_test = Data()\n",
    "        if color:\n",
    "            self.D_test.scan_dir_imgs_color(path_im1, path_im2, path_labels, \n",
    "                cnt_images=cnt_test_images, start_from=start_from_test)\n",
    "        else:\n",
    "            self.D_test.scan_dir_imgs_bw(path_im1, path_im2, path_labels, \n",
    "                cnt_images=cnt_test_images, start_from=start_from_test)\n",
    "        \n",
    "        self.D_test.clusterise_data(cluster_size=cluster_size)\n",
    "\n",
    "    def train(self):\n",
    "        self.clf = svm.SVC(kernel='rbf', gamma='scale', C=0.1)\n",
    "        self.clf.fit(self.D_train.X_clusters, self.D_train.y_clusters)\n",
    "    \n",
    "    def correct_labels(self, test_image_ind=0):\n",
    "        i = test_image_ind * self.D_test.clusters_per_image\n",
    "        j = (test_image_ind + 1) * self.D_test.clusters_per_image\n",
    "        return self.D_test.y_clusters[i:j]\n",
    "    \n",
    "    def predict_labels(self, test_image_ind=0):\n",
    "        i = test_image_ind * self.D_test.clusters_per_image\n",
    "        j = (test_image_ind + 1) * self.D_test.clusters_per_image\n",
    "        return self.clf.predict(self.D_test.X_clusters[i:j])"
   ]
  },
  {
   "cell_type": "code",
   "execution_count": 30,
   "metadata": {},
   "outputs": [
    {
     "name": "stdout",
     "output_type": "stream",
     "text": [
      "image no. 0\n",
      "00003.png\n",
      "image no. 10\n",
      "00026.png\n",
      "image no. 15\n",
      "00038.png\n",
      "image no. 120\n",
      "00291.png\n",
      "image no. 129\n",
      "00319.png\n"
     ]
    }
   ],
   "source": [
    "S_ = SVM_Change_Detection_Classifier()\n",
    "S_.get_images(path_im1, path_im2, path_labels, cnt_train_images=16, cnt_test_images=10,\n",
    "    start_from_train=0, start_from_test=120, cluster_size=16)\n",
    "S_.train()"
   ]
  },
  {
   "cell_type": "code",
   "execution_count": 40,
   "metadata": {},
   "outputs": [
    {
     "data": {
      "image/png": "[encoded data removed]",
      "text/plain": [
       "<Figure size 576x576 with 1 Axes>"
      ]
     },
     "metadata": {
      "needs_background": "light"
     },
     "output_type": "display_data"
    }
   ],
   "source": [
    "plot_array_as_image(S_.correct_labels(4), m=S_.D_test.n_clusters, n=S_.D_test.n_clusters, is_1d=True)"
   ]
  },
  {
   "cell_type": "code",
   "execution_count": 39,
   "metadata": {},
   "outputs": [
    {
     "data": {
      "image/png": "[encoded data removed]",
      "text/plain": [
       "<Figure size 576x576 with 1 Axes>"
      ]
     },
     "metadata": {
      "needs_background": "light"
     },
     "output_type": "display_data"
    }
   ],
   "source": [
    "plot_array_as_image(S_.predict_labels(4), m=S_.D_test.n_clusters, n=S_.D_test.n_clusters, is_1d=True)"
   ]
  },
  {
   "cell_type": "code",
   "execution_count": 42,
   "metadata": {},
   "outputs": [],
   "source": [
    "y_correct = S_.correct_labels(0).reshape((S_.D_test.n_clusters, S_.D_test.n_clusters))\n",
    "fig = plt.figure(1, (8, 8))\n",
    "plt.imshow(y_correct)\n",
    "plt.savefig('correct.png')\n",
    "plt.close(fig)\n",
    "\n",
    "y_predict = S_.predict_labels(0).reshape((S_.D_test.n_clusters, S_.D_test.n_clusters))\n",
    "fig = plt.figure(1, (8, 8))\n",
    "plt.imshow(y_predict)\n",
    "plt.savefig('predict.png')\n",
    "plt.close(fig)\n"
   ]
  },
  {
   "cell_type": "code",
   "execution_count": null,
   "metadata": {},
   "outputs": [],
   "source": []
  }
 ],
 "metadata": {
  "interpreter": {
   "hash": "00c7bf354c56290f5c8a36532e89f48915b186527b8684a9ec4204cb0b599f8c"
  },
  "kernelspec": {
   "display_name": "Python 3.9.7 ('base')",
   "language": "python",
   "name": "python3"
  },
  "language_info": {
   "codemirror_mode": {
    "name": "ipython",
    "version": 3
   },
   "file_extension": ".py",
   "mimetype": "text/x-python",
   "name": "python",
   "nbconvert_exporter": "python",
   "pygments_lexer": "ipython3",
   "version": "3.9.7"
  },
  "orig_nbformat": 4
 },
 "nbformat": 4,
 "nbformat_minor": 2
}
